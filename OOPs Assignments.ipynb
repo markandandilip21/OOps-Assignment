{
 "cells": [
  {
   "cell_type": "code",
   "execution_count": 1,
   "id": "4a63ecce",
   "metadata": {},
   "outputs": [
    {
     "name": "stdout",
     "output_type": "stream",
     "text": [
      "35\n"
     ]
    }
   ],
   "source": [
    "class Point:\n",
    "\n",
    "    def __init__(self, x, y, z):\n",
    "        self.x = x\n",
    "        self.y = y\n",
    "        self.z = z\n",
    "\n",
    "    def sqSum(self):\n",
    "        return self.x ** 2 + self.y ** 2 + self.z ** 2\n",
    "\n",
    "# Sample properties: x = 1, y = 3, z = 5\n",
    "point = Point(1, 3, 5)\n",
    "result = point.sqSum()\n",
    "print(result)  \n"
   ]
  },
  {
   "cell_type": "code",
   "execution_count": 2,
   "id": "393ef1b3",
   "metadata": {},
   "outputs": [
    {
     "name": "stdout",
     "output_type": "stream",
     "text": [
      "104\n",
      "84\n",
      "940\n",
      "9.4\n"
     ]
    }
   ],
   "source": [
    "class Calculator:\n",
    "\n",
    "    def __init__(self, num1, num2):\n",
    "        self.num1 = num1\n",
    "        self.num2 = num2\n",
    "\n",
    "    def add(self):\n",
    "        return self.num1 + self.num2\n",
    "\n",
    "    def subtract(self):\n",
    "        return self.num2 - self.num1\n",
    "\n",
    "    def multiply(self):\n",
    "        return self.num1 * self.num2\n",
    "\n",
    "    def divide(self):\n",
    "        return self.num2 / self.num1\n",
    "\n",
    "# Sample input\n",
    "obj = Calculator(10, 94)\n",
    "\n",
    "# Sample output\n",
    "print(obj.add())       # Output: 104\n",
    "print(obj.subtract())  # Output: 84\n",
    "print(obj.multiply())  # Output: 940\n",
    "print(obj.divide())    # Output: 9.4\n"
   ]
  },
  {
   "cell_type": "code",
   "execution_count": 3,
   "id": "d22e6bdb",
   "metadata": {},
   "outputs": [
    {
     "name": "stdout",
     "output_type": "stream",
     "text": [
      "Name: John Doe\n",
      "Roll Number: 12345\n"
     ]
    }
   ],
   "source": [
    "class Student:\n",
    "\n",
    "    def __init__(self):\n",
    "        self.__name = \"\"\n",
    "        self.__rollNumber = \"\"\n",
    "\n",
    "    def setName(self, name):\n",
    "        self.__name = name\n",
    "\n",
    "    def getName(self):\n",
    "        return self.__name\n",
    "\n",
    "    def setRollNumber(self, rollNumber):\n",
    "        self.__rollNumber = rollNumber\n",
    "\n",
    "    def getRollNumber(self):\n",
    "        return self.__rollNumber\n",
    "\n",
    "# Creating an instance of the Student class\n",
    "student = Student()\n",
    "\n",
    "# Setting values using setter methods\n",
    "student.setName(\"John Doe\")\n",
    "student.setRollNumber(\"12345\")\n",
    "\n",
    "# Getting values using getter methods\n",
    "name = student.getName()\n",
    "rollNumber = student.getRollNumber()\n",
    "\n",
    "print(\"Name:\", name)\n",
    "print(\"Roll Number:\", rollNumber)\n"
   ]
  },
  {
   "cell_type": "code",
   "execution_count": 4,
   "id": "d92903f3",
   "metadata": {},
   "outputs": [
    {
     "name": "stdout",
     "output_type": "stream",
     "text": [
      "Title: Ashish\n",
      "Balance: 5000\n",
      "Interest Rate: 5\n"
     ]
    }
   ],
   "source": [
    "class Account:\n",
    "\n",
    "    def __init__(self, title, balance=0):\n",
    "        self.title = title\n",
    "        self.balance = balance\n",
    "\n",
    "class SavingsAccount(Account):\n",
    "\n",
    "    def __init__(self, title, balance, interestRate):\n",
    "        super().__init__(title, balance)\n",
    "        self.interestRate = interestRate\n",
    "\n",
    "# Creating an instance of SavingsAccount\n",
    "savings_account = SavingsAccount(\"Ashish\", 5000, 5)\n",
    "\n",
    "# Accessing properties from the parent class\n",
    "print(\"Title:\", savings_account.title)\n",
    "print(\"Balance:\", savings_account.balance)\n",
    "\n",
    "# Accessing properties from the child class\n",
    "print(\"Interest Rate:\", savings_account.interestRate)\n"
   ]
  },
  {
   "cell_type": "code",
   "execution_count": 5,
   "id": "b09129d5",
   "metadata": {},
   "outputs": [
    {
     "name": "stdout",
     "output_type": "stream",
     "text": [
      "Balance after deposit: 2500\n",
      "Balance after withdrawal: 2000\n",
      "Interest amount: 100.0\n"
     ]
    }
   ],
   "source": [
    "class Account:\n",
    "    def __init__(self, title=None, balance=0):\n",
    "        self.title = title\n",
    "        self.balance = balance\n",
    "    \n",
    "    def withdrawal(self, amount):\n",
    "        if amount > 0 and amount <= self.balance:\n",
    "            self.balance -= amount\n",
    "\n",
    "    def deposit(self, amount):\n",
    "        if amount > 0:\n",
    "            self.balance += amount\n",
    "    \n",
    "    def getBalance(self):\n",
    "        return self.balance\n",
    "\n",
    "class SavingsAccount(Account):\n",
    "    def __init__(self, title=None, balance=0, interestRate=0):\n",
    "        super().__init__(title, balance)\n",
    "        self.interestRate = interestRate\n",
    "    \n",
    "    def interestAmount(self):\n",
    "        return (self.balance * self.interestRate) / 100\n",
    "\n",
    "# Creating an instance of SavingsAccount\n",
    "savings_account = SavingsAccount(\"Ashish\", 2000, 5)\n",
    "\n",
    "# Test the methods\n",
    "savings_account.deposit(500)\n",
    "print(\"Balance after deposit:\", savings_account.getBalance())\n",
    "\n",
    "savings_account.withdrawal(500)\n",
    "print(\"Balance after withdrawal:\", savings_account.getBalance())\n",
    "\n",
    "interest_amt = savings_account.interestAmount()\n",
    "print(\"Interest amount:\", interest_amt)\n"
   ]
  },
  {
   "cell_type": "code",
   "execution_count": 6,
   "id": "1cf91db2",
   "metadata": {},
   "outputs": [
    {
     "name": "stdout",
     "output_type": "stream",
     "text": [
      "Balance after deposit: 2500\n",
      "Balance after withdrawal: 2000\n",
      "Interest amount: 100.0\n"
     ]
    }
   ],
   "source": [
    "class Account:\n",
    "    def __init__(self, title=None, balance=0):\n",
    "        self.title = title\n",
    "        self.balance = balance\n",
    "    \n",
    "    def withdrawal(self, amount):\n",
    "        if amount > 0 and amount <= self.balance:\n",
    "            self.balance -= amount\n",
    "\n",
    "    def deposit(self, amount):\n",
    "        if amount > 0:\n",
    "            self.balance += amount\n",
    "    \n",
    "    def getBalance(self):\n",
    "        return self.balance\n",
    "\n",
    "class SavingsAccount(Account):\n",
    "    def __init__(self, title=None, balance=0, interestRate=0):\n",
    "        super().__init__(title, balance)\n",
    "        self.interestRate = interestRate\n",
    "    \n",
    "    def interestAmount(self):\n",
    "        return (self.balance * self.interestRate) / 100\n",
    "\n",
    "# Creating an instance of SavingsAccount\n",
    "savings_account = SavingsAccount(\"Ashish\", 2000, 5)\n",
    "\n",
    "# Test the methods\n",
    "savings_account.deposit(500)\n",
    "print(\"Balance after deposit:\", savings_account.getBalance())\n",
    "\n",
    "savings_account.withdrawal(500)  # Corrected withdrawal amount\n",
    "print(\"Balance after withdrawal:\", savings_account.getBalance())\n",
    "\n",
    "interest_amt = savings_account.interestAmount()\n",
    "print(\"Interest amount:\", interest_amt)\n"
   ]
  },
  {
   "cell_type": "code",
   "execution_count": 7,
   "id": "64130027",
   "metadata": {},
   "outputs": [
    {
     "name": "stdout",
     "output_type": "stream",
     "text": [
      "Balance after withdrawal: 1500\n"
     ]
    }
   ],
   "source": [
    "class Account:\n",
    "    def __init__(self, title=None, balance=0):\n",
    "        self.title = title\n",
    "        self.balance = balance\n",
    "    \n",
    "    def withdrawal(self, amount):\n",
    "        if amount > 0 and amount <= self.balance:\n",
    "            self.balance -= amount\n",
    "\n",
    "    def deposit(self, amount):\n",
    "        if amount > 0:\n",
    "            self.balance += amount\n",
    "    \n",
    "    def getBalance(self):\n",
    "        return self.balance\n",
    "\n",
    "# Creating an instance of Account\n",
    "account = Account(\"Ashish\", 2000)\n",
    "\n",
    "# Withdrawal and check balance\n",
    "account.withdrawal(500)\n",
    "balance_after_withdrawal = account.getBalance()\n",
    "print(\"Balance after withdrawal:\", balance_after_withdrawal)\n"
   ]
  },
  {
   "cell_type": "code",
   "execution_count": 9,
   "id": "50a57660",
   "metadata": {},
   "outputs": [
    {
     "name": "stdout",
     "output_type": "stream",
     "text": [
      "Balance after deposit: 2500\n",
      "Balance after withdrawal: 1500\n",
      "Interest amount: 75.0\n"
     ]
    }
   ],
   "source": [
    "class Account:\n",
    "    def __init__(self, title=None, balance=0):\n",
    "        self.title = title\n",
    "        self.balance = balance\n",
    "    \n",
    "    def withdrawal(self, amount):\n",
    "        if amount > 0 and amount <= self.balance:\n",
    "            self.balance -= amount\n",
    "\n",
    "    def deposit(self, amount):\n",
    "        if amount > 0:\n",
    "            self.balance += amount\n",
    "    \n",
    "    def getBalance(self):\n",
    "        return self.balance\n",
    "\n",
    "class SavingsAccount(Account):\n",
    "    def __init__(self, title=None, balance=0, interestRate=0):\n",
    "        super().__init__(title, balance)\n",
    "        self.interestRate = interestRate\n",
    "    \n",
    "    def interestAmount(self):\n",
    "        return (self.balance * self.interestRate) / 100\n",
    "\n",
    "# Creating an instance of SavingsAccount\n",
    "demo1 = SavingsAccount(\"Ashish\", 2000, 5)\n",
    "\n",
    "# Test the methods\n",
    "demo1.deposit(500)\n",
    "print(\"Balance after deposit:\", demo1.getBalance())\n",
    "\n",
    "demo1.withdrawal(1000)\n",
    "print(\"Balance after withdrawal:\", demo1.getBalance())\n",
    "\n",
    "interest_amt = demo1.interestAmount()\n",
    "print(\"Interest amount:\", interest_amt)\n"
   ]
  },
  {
   "cell_type": "code",
   "execution_count": null,
   "id": "2482d294",
   "metadata": {},
   "outputs": [],
   "source": []
  }
 ],
 "metadata": {
  "kernelspec": {
   "display_name": "Python 3 (ipykernel)",
   "language": "python",
   "name": "python3"
  },
  "language_info": {
   "codemirror_mode": {
    "name": "ipython",
    "version": 3
   },
   "file_extension": ".py",
   "mimetype": "text/x-python",
   "name": "python",
   "nbconvert_exporter": "python",
   "pygments_lexer": "ipython3",
   "version": "3.10.9"
  }
 },
 "nbformat": 4,
 "nbformat_minor": 5
}
